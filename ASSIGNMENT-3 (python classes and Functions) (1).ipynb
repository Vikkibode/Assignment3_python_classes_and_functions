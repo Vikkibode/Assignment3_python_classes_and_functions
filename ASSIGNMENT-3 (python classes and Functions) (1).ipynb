{
 "cells": [
  {
   "cell_type": "code",
   "execution_count": 8,
   "id": "c9169364",
   "metadata": {},
   "outputs": [
    {
     "name": "stdout",
     "output_type": "stream",
     "text": [
      "vicky\n",
      "27\n",
      "A\n"
     ]
    }
   ],
   "source": [
    "# QUESTION NO.1 = class Defination and object creation:\n",
    "\n",
    "class Student():\n",
    "    def __init__(self,name,age,grade):\n",
    "        self.name=name\n",
    "        self.age=age\n",
    "        self.grade=grade\n",
    "        \n",
    "student_1=Student('vicky','27','A')\n",
    "\n",
    "print(student_1.name)\n",
    "print(student_1.age)\n",
    "print(student_1.grade)"
   ]
  },
  {
   "cell_type": "code",
   "execution_count": 1,
   "id": "d1438888",
   "metadata": {},
   "outputs": [
    {
     "name": "stdout",
     "output_type": "stream",
     "text": [
      "vicky\n",
      "27\n",
      "75\n",
      "student is passing\n"
     ]
    }
   ],
   "source": [
    "# QUESTION NO.2 = Methods in a class:\n",
    "\n",
    "class Student():\n",
    "    def __init__(self,name,age,grade):\n",
    "        self.name=name\n",
    "        self.age=age\n",
    "        self.grade=grade\n",
    "        \n",
    "    def is_passing():\n",
    "        return '{} {}'.format(self.grade>=50)\n",
    "        \n",
    "        \n",
    "student_1=Student('vicky',27,75)\n",
    "\n",
    "print(student_1.name)\n",
    "print(student_1.age)\n",
    "print(student_1.grade)\n",
    "\n",
    "# Display the result\n",
    "\n",
    "if (student_1.is_passing):\n",
    "    print('student is passing')\n",
    "else:\n",
    "    print('student is not passing')"
   ]
  },
  {
   "cell_type": "code",
   "execution_count": 5,
   "id": "fab1cf0d",
   "metadata": {},
   "outputs": [
    {
     "name": "stdout",
     "output_type": "stream",
     "text": [
      "vicky\n",
      "27\n",
      "A\n",
      "TGPCET\n"
     ]
    }
   ],
   "source": [
    "# QUESTION NO.3 = Inheritance and subclasses:\n",
    "\n",
    "class Student():\n",
    "    def __init__(self,name,age,grade):\n",
    "        self.name=name\n",
    "        self.age=age\n",
    "        self.grade=grade\n",
    "        \n",
    "class Highschoolstudent(Student):\n",
    "    \n",
    "    def __init__(self,name,age,grade,school_name):\n",
    "        \n",
    "        super().__init__(name,age,grade)\n",
    "        self.school_name=school_name\n",
    "        \n",
    "highschoolstudent_1=Highschoolstudent('vicky','27','A','TGPCET')\n",
    "\n",
    "\n",
    "print(highschoolstudent_1.name)\n",
    "print(highschoolstudent_1.age)   \n",
    "print(highschoolstudent_1.grade) \n",
    "print(highschoolstudent_1.school_name)\n",
    "        "
   ]
  },
  {
   "cell_type": "code",
   "execution_count": 15,
   "id": "745fbe1e",
   "metadata": {},
   "outputs": [
    {
     "name": "stdout",
     "output_type": "stream",
     "text": [
      "25\n"
     ]
    }
   ],
   "source": [
    "# QUESTION NO.4 # PART B : Functions In Python\n",
    "# Functions with parameters:\n",
    "\n",
    "def calculate_rectangle_area(length,width):\n",
    "    \n",
    "    print(length*width)\n",
    "    \n",
    "calculate_rectangle_area(5,5)\n",
    "\n"
   ]
  },
  {
   "cell_type": "code",
   "execution_count": 6,
   "id": "ab49a20c",
   "metadata": {},
   "outputs": [
    {
     "name": "stdout",
     "output_type": "stream",
     "text": [
      "('Hellow', 'Vicky')\n",
      "('Hi', 'shubham')\n"
     ]
    }
   ],
   "source": [
    "# QUESTION NO.5 = Functions With Default Parameter:\n",
    "\n",
    "def greet(name,greeting=\"Hellow\"):\n",
    "    return(greeting,name)\n",
    "\n",
    "# testing\n",
    "\n",
    "greeting1=greet(\"Vicky\")\n",
    "greeting2=greet(\"shubham\",\"Hi\")\n",
    "\n",
    "print(greeting1)\n",
    "print(greeting2)"
   ]
  },
  {
   "cell_type": "code",
   "execution_count": 3,
   "id": "c4935511",
   "metadata": {},
   "outputs": [
    {
     "name": "stdout",
     "output_type": "stream",
     "text": [
      "The Calculate_average is:  12.5\n"
     ]
    }
   ],
   "source": [
    "# QUESTION NO.6 = Functions with variable number of arguments:\n",
    "\n",
    "def calculate_average(arguments):\n",
    "    \n",
    "    if len(arguments)==0:\n",
    "        return 0\n",
    "    return sum(arguments)/len(arguments)\n",
    "\n",
    "\n",
    "\n",
    "numbers = (5,10,15,20)\n",
    "average=calculate_average(numbers)\n",
    "print(\"The Calculate_average is: \", average)\n",
    "    \n",
    "\n",
    "\n",
    "    "
   ]
  },
  {
   "cell_type": "code",
   "execution_count": null,
   "id": "e157b98e",
   "metadata": {},
   "outputs": [],
   "source": [
    "\n"
   ]
  },
  {
   "cell_type": "code",
   "execution_count": null,
   "id": "45b28e98",
   "metadata": {},
   "outputs": [],
   "source": []
  }
 ],
 "metadata": {
  "kernelspec": {
   "display_name": "Python 3 (ipykernel)",
   "language": "python",
   "name": "python3"
  },
  "language_info": {
   "codemirror_mode": {
    "name": "ipython",
    "version": 3
   },
   "file_extension": ".py",
   "mimetype": "text/x-python",
   "name": "python",
   "nbconvert_exporter": "python",
   "pygments_lexer": "ipython3",
   "version": "3.11.4"
  }
 },
 "nbformat": 4,
 "nbformat_minor": 5
}
